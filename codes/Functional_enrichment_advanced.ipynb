{
 "cells": [
  {
   "cell_type": "code",
   "execution_count": 2,
   "metadata": {
    "button": false,
    "collapsed": true,
    "new_sheet": false,
    "run_control": {
     "read_only": false
    }
   },
   "outputs": [],
   "source": [
    "import pandas as pd\n",
    "from core_functions import *\n",
    "import os"
   ]
  },
  {
   "cell_type": "markdown",
   "metadata": {},
   "source": [
    "Note before starting:\n",
    "    <p>All data files must be in data/ folder<p>\n",
    "    <p>All results will be generated in results/ folder including an image (in PNG) and an Excel file<p>\n",
    "    <p> All file names should be written between "
   ]
  },
  {
   "cell_type": "code",
   "execution_count": 17,
   "metadata": {
    "button": false,
    "collapsed": true,
    "new_sheet": false,
    "run_control": {
     "read_only": false
    },
    "scrolled": false
   },
   "outputs": [],
   "source": [
    "#File path of the functional database (it need to be in gmt format!)\n",
    "#It should be in data/MSigDB/ file\n",
    "db_name = '../data/MSigDB/go_mf.gmt'\n",
    "\n",
    "#Filepath of the gene sets of interest to perform enrichment\n",
    "filename = '../data/example_groups_file.xls'\n",
    "\n",
    "#File path of the list of functional terms you do not want to display, by default none. \n",
    "filenameGO = 'No_file'\n",
    "\n",
    "#Minimum of genes intersection your gene set and each pathway to consider the enrichment\n",
    "#by default set to 0\n",
    "mngene = 0\n",
    "\n",
    "#File path of the output excel file where you want your results. \n",
    "out_ex = '../results/example_output.xls'\n",
    "\n",
    "#Corrected P-value significance threshold\n",
    "fs = 0.05\n",
    "\n",
    "#Generate results folder if it is not already there\n",
    "try:\n",
    "    os.stat('../results/')\n",
    "except:\n",
    "    os.mkdir('../results/')       "
   ]
  },
  {
   "cell_type": "markdown",
   "metadata": {
    "button": false,
    "new_sheet": false,
    "run_control": {
     "read_only": false
    }
   },
   "source": [
    "## Functional enrichment"
   ]
  },
  {
   "cell_type": "code",
   "execution_count": 1,
   "metadata": {
    "button": false,
    "new_sheet": false,
    "run_control": {
     "read_only": false
    },
    "scrolled": false
   },
   "outputs": [
    {
     "ename": "NameError",
     "evalue": "name 'filename' is not defined",
     "output_type": "error",
     "traceback": [
      "\u001b[0;31m---------------------------------------------------------------------------\u001b[0m",
      "\u001b[0;31mNameError\u001b[0m                                 Traceback (most recent call last)",
      "\u001b[0;32m<ipython-input-1-08ce03bcc232>\u001b[0m in \u001b[0;36m<module>\u001b[0;34m()\u001b[0m\n\u001b[0;32m----> 1\u001b[0;31m \u001b[0;32mif\u001b[0m \u001b[0mfilename\u001b[0m \u001b[0;34m==\u001b[0m \u001b[0;34m'No_file'\u001b[0m\u001b[0;34m:\u001b[0m\u001b[0;34m\u001b[0m\u001b[0m\n\u001b[0m\u001b[1;32m      2\u001b[0m     \u001b[0mprint\u001b[0m\u001b[0;34m(\u001b[0m\u001b[0;34m'PLEASE SPECIFY A GROUP FILE. It should be in data/ folder'\u001b[0m\u001b[0;34m)\u001b[0m\u001b[0;34m\u001b[0m\u001b[0m\n\u001b[1;32m      3\u001b[0m \u001b[0;32melse\u001b[0m\u001b[0;34m:\u001b[0m\u001b[0;34m\u001b[0m\u001b[0m\n\u001b[1;32m      4\u001b[0m     \u001b[0;31m#Load data\u001b[0m\u001b[0;34m\u001b[0m\u001b[0;34m\u001b[0m\u001b[0m\n\u001b[1;32m      5\u001b[0m     \u001b[0mclusters\u001b[0m \u001b[0;34m=\u001b[0m \u001b[0mpd\u001b[0m\u001b[0;34m.\u001b[0m\u001b[0mread_excel\u001b[0m\u001b[0;34m(\u001b[0m\u001b[0;34m'../data/'\u001b[0m\u001b[0;34m+\u001b[0m\u001b[0mfilename\u001b[0m\u001b[0;34m)\u001b[0m\u001b[0;34m\u001b[0m\u001b[0m\n",
      "\u001b[0;31mNameError\u001b[0m: name 'filename' is not defined"
     ]
    }
   ],
   "source": [
    "if filename == 'No_file':\n",
    "    print('PLEASE SPECIFY A GROUP FILE. It should be in data/ folder')\n",
    "else:\n",
    "    #Load data\n",
    "    clusters = pd.read_excel('../data/'+filename)\n",
    "    cluster_genes = {}\n",
    "    for cluster in clusters.columns.tolist():\n",
    "        cluster_genes[cluster] = clusters[cluster].dropna().tolist()\n",
    "    \n",
    "    #Load functional annotation data\n",
    "    genesets = {}\n",
    "    allgenes = []\n",
    "    ffile = open(db_name,'r')\n",
    "    for line in ffile.readlines():\n",
    "        f = line.strip().split('\\t')\n",
    "        genesets[f[0]] = f[2:]\n",
    "        allgenes += f[2:]\n",
    "    ffile.close()\n",
    "    allgenes = set(allgenes)\n",
    "    \n",
    "    #Functional enrichment\n",
    "    allenrichment_results = enrichment_all_groups(genesets,mngene,filenameGO,allgenes,cluster_genes,float(fs))\n",
    "    \n",
    "    if len(allenrichment_results) > 0:\n",
    "        #Plot heatmap\n",
    "        plot_heatmap(allenrichment_results,clusters,cluster_genes,float(fs))\n",
    "\n",
    "        #Generate tabe with all results\n",
    "        allenrichment_results[['GROUP','TERM','TERM_GENE_SET_SIZE','PVALUE','QVALUE','ENRICHED_GENES']].to_excel(out_ex,index=False)\n",
    "    else:\n",
    "        print('Any gene set from',dbn.value,'was enriched by',filename)"
   ]
  },
  {
   "cell_type": "markdown",
   "metadata": {
    "collapsed": true
   },
   "source": [
    "Explanation of the excel file generated\n",
    "<li>GROUP: name of the user gene set of interest</li>\n",
    "<li>TERM: pathway enriched</li>\n",
    "<li>TERM_GENE_SET_SIZE: number of genes in pathway enriched</li>\n",
    "<li>PVALUE: P-value of the enrichment</li>\n",
    "<li>QVALUE: Corrected P-values (FDR bh) of the enrichment (the one to look at!)</li>\n",
    "<li>ENRICHED_GENES: list of genes in the pathway and in the user gene set</li>"
   ]
  },
  {
   "cell_type": "code",
   "execution_count": null,
   "metadata": {
    "collapsed": true
   },
   "outputs": [],
   "source": []
  }
 ],
 "metadata": {
  "kernelspec": {
   "display_name": "Python 3",
   "language": "python",
   "name": "python3"
  },
  "language_info": {
   "codemirror_mode": {
    "name": "ipython",
    "version": 3
   },
   "file_extension": ".py",
   "mimetype": "text/x-python",
   "name": "python",
   "nbconvert_exporter": "python",
   "pygments_lexer": "ipython3",
   "version": "3.6.1"
  }
 },
 "nbformat": 4,
 "nbformat_minor": 2
}
