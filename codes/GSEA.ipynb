{
 "cells": [
  {
   "cell_type": "code",
   "execution_count": 3,
   "metadata": {
    "collapsed": true
   },
   "outputs": [],
   "source": [
    "import pandas as pd\n",
    "import gseapy as gp\n",
    "from scipy.stats import rankdata\n",
    "from itertools import combinations\n",
    "import numpy as np\n",
    "import warnings\n",
    "from core_functions import *\n",
    "warnings.filterwarnings('ignore')"
   ]
  },
  {
   "cell_type": "markdown",
   "metadata": {},
   "source": [
    "Note on parameters: \n",
    "<p> All file names should be written between comma (e.g. 'filename')</p>\n",
    "<p> By default GSEA will generate the enrichment plots of the top-20 enriched pathways if you want to change this number you can change it in \"output_plots\"</p>\n",
    "<p> By default it will do 1,000 random permutations. This means the lowest P-value you will obtain is 10-3. You may lower this number to speed-up the enrichment or increase it to have more statistical power (you may have a memory error here). You can change it in \"permutations_number\"</p>\n",
    "<p> If you input a ranked file it is assumed that lower values means downregulation and higher up-regulation </p>"
   ]
  },
  {
   "cell_type": "code",
   "execution_count": 4,
   "metadata": {
    "collapsed": true
   },
   "outputs": [],
   "source": [
    "#File with the ranked list of genes of the expression matrix\n",
    "#If it is the expression matrix the first column, named GENE, should contain the gene symbols\n",
    "#Genes with negative expression values or zero will be discarded from analysis\n",
    "filename = 'example_expression_matrix.xls'\n",
    "\n",
    "#Is it the expression matrix? True or False\n",
    "exp_mat = True\n",
    "\n",
    "#Do you want to do paired combinations? (set as True) \n",
    "#or one conditions against all the others? (set as False)\n",
    "paired_combi = False\n",
    "\n",
    "#Database to perform the GSEA\n",
    "db_name = '../data/MSigDB/hallmarks.gmt'\n",
    "\n",
    "#Advanced GSEA parameters\n",
    "permutations_number = 10\n",
    "output_plots = 5\n",
    "\n",
    "#Name of the analysis it will be used for output folder and summary file in results/ folder\n",
    "analysis_name = 'example_ranked'"
   ]
  },
  {
   "cell_type": "code",
   "execution_count": 5,
   "metadata": {},
   "outputs": [
    {
     "name": "stdout",
     "output_type": "stream",
     "text": [
      "expression data loaded\n",
      ">>>>>>>>Running GSEA with one against all combinations<<<<<<<<<\n",
      "---> working on combination: condition1 vs the rest\n",
      "\t 3847  genes discarded for having null (0 or <0) values in one or both conditions\n",
      "\trunning GSEA for condition1  vs the rest, this might take hours\n",
      "---> working on combination: condition2 vs the rest\n",
      "\t 3490  genes discarded for having null (0 or <0) values in one or both conditions\n",
      "\trunning GSEA for condition2  vs the rest, this might take hours\n",
      "---> working on combination: condition3 vs the rest\n",
      "\t 3640  genes discarded for having null (0 or <0) values in one or both conditions\n",
      "\trunning GSEA for condition3  vs the rest, this might take hours\n"
     ]
    }
   ],
   "source": [
    "if exp_mat: \n",
    "    #If it is an expression matrix\n",
    "    exp = pd.read_excel('../data/'+filename,sep='\\t',index_col=False,header=0)\n",
    "    print('Expression data loaded')\n",
    "    if paired_combi:\n",
    "        print('>>>>>>>>Running GSEA with paired combinations<<<<<<<<<')\n",
    "        paired_combinations(exp,db_name,analysis_name,permutations_number,output_plots)\n",
    "    else:\n",
    "        print('>>>>>>>>Running GSEA with one against all combinations<<<<<<<<<')\n",
    "        one_againts_all_combinations(exp,db_name,analysis_name,permutations_number,output_plots)\n",
    "else:\n",
    "    #It is a ranked list of genes\n",
    "    genes_rankval = pd.read_excel('../data/'+filename,names=['GENE','FC']) #Load data\n",
    "    genes_rankval['RANK'] = rankdata(genes_rankval['FC'].tolist()) #Compute rank \n",
    "    run_GSEA_function(genes_rankval,db_name,analysis_name) #run GSEA"
   ]
  },
  {
   "cell_type": "markdown",
   "metadata": {},
   "source": [
    "Explanation of the columns in the Excel summary file\n",
    "<ul>\n",
    "<li>Term: name of the pathway enriched</li>\n",
    "<li>es: enrichment score</li>\n",
    "<li>nes: normalized enrichment score (the one to look at!)</li>\n",
    "<li>pval: P-value of the enrichment</li>\n",
    "<li>fdr: Corrected(P-value) of the enrichment by FDR (the one to look at!). Recommended threshold: fdr < 0.25</li>\n",
    "<li>gene_set_size: number of genes in the pathway</li>\n",
    "<li>matched_size: number of genes in the pathway and in your input file</li>\n",
    "<li>genes: genes in the pathway and in your input file</li>\n",
    "</ul>"
   ]
  }
 ],
 "metadata": {
  "kernelspec": {
   "display_name": "Python 3",
   "language": "python",
   "name": "python3"
  },
  "language_info": {
   "codemirror_mode": {
    "name": "ipython",
    "version": 3
   },
   "file_extension": ".py",
   "mimetype": "text/x-python",
   "name": "python",
   "nbconvert_exporter": "python",
   "pygments_lexer": "ipython3",
   "version": "3.6.1"
  }
 },
 "nbformat": 4,
 "nbformat_minor": 2
}
