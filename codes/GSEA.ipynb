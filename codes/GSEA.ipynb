{
 "cells": [
  {
   "cell_type": "code",
   "execution_count": 16,
   "metadata": {
    "collapsed": true
   },
   "outputs": [],
   "source": [
    "import pandas as pd\n",
    "import gseapy as gp\n",
    "from scipy.stats import rankdata\n",
    "from itertools import combinations\n",
    "import numpy as np"
   ]
  },
  {
   "cell_type": "code",
   "execution_count": 34,
   "metadata": {
    "collapsed": true
   },
   "outputs": [],
   "source": [
    "#File with the ranked list of genes of the expression matrix\n",
    "#If it is the expression matrix the first column, named GENE, should contain the gene symbols\n",
    "#Genes with negative expression values or zero will be discarded from analysis\n",
    "filename = 'example_ranked_gene_list.xls'\n",
    "\n",
    "#Is it the expression matrix? True or False\n",
    "exp_mat = True\n",
    "\n",
    "#Database to perform the GSEA\n",
    "db_name = '../data/MSigDB/hallmarks.gmt'\n",
    "\n",
    "#Name of the analysis it will be used for output folder and summary file in results/ folder\n",
    "analysis_name = 'example_ranked'"
   ]
  },
  {
   "cell_type": "markdown",
   "metadata": {},
   "source": [
    "Note of advanced parameters: \n",
    "\n",
    "<p> By default GSEA will generate the enrichment plots of the top-20 enriched pathways if you want to change this number you may change \"graph_num\"</p>\n",
    "<p> By default it will do 1,000 random permutations. This means the lowest P-value you will obtain is 10-3. You may lower this number to speed-up the enrichment or increase it to have more statistical power (you may have a memory error here)</p>\n",
    "<p> If you input a ranked file it is assumed that lower values means downregulation and higher up-regulation </p>"
   ]
  },
  {
   "cell_type": "code",
   "execution_count": 35,
   "metadata": {},
   "outputs": [],
   "source": [
    "#GSEA function\n",
    "def run_GSEA_function(genes_rankval,db_name,analysis_name):\n",
    "    #Run GSEA\n",
    "    pre_res = gp.prerank(rnk=genes_rankval[['GENE','RANK']],\n",
    "                             gene_sets=db_name,\n",
    "                             outdir='../results/'+analysis_name,format='png',\n",
    "                             graph_num=20,\n",
    "                             permutation_num=1000,\n",
    "                             weighted_score_type=0)\n",
    "    results = pd.DataFrame(pre_res.res2d)\n",
    "    results = results.reset_index()\n",
    "    #Dump a summary of the results into an Excel file\n",
    "    results.to_excel('../results/'+analysis_name+'_GSEAresults_SUMMARY.xls',index=False)\n",
    "\n",
    "def compute_log2(x):\n",
    "    if x <= 0:\n",
    "        return -666\n",
    "    else:\n",
    "        return np.log2(float(x))"
   ]
  },
  {
   "cell_type": "code",
   "execution_count": 36,
   "metadata": {},
   "outputs": [
    {
     "name": "stdout",
     "output_type": "stream",
     "text": [
      "expression data loaded\n",
      "computing gene FC for ('TCGA-OR-A5J1', 'TCGA-OR-A5J2')\n",
      "running GSEA for ('TCGA-OR-A5J1', 'TCGA-OR-A5J2')  this might take hours\n",
      "computing gene FC for ('TCGA-OR-A5J1', 'TCGA-OR-A5J3')\n",
      "running GSEA for ('TCGA-OR-A5J1', 'TCGA-OR-A5J3')  this might take hours\n",
      "computing gene FC for ('TCGA-OR-A5J2', 'TCGA-OR-A5J3')\n",
      "running GSEA for ('TCGA-OR-A5J2', 'TCGA-OR-A5J3')  this might take hours\n"
     ]
    }
   ],
   "source": [
    "if exp_mat: \n",
    "    #If it is an expression matrix\n",
    "    exp = pd.read_csv('../data/example_expression_matrix.tsv',sep='\\t',index_col=False,header=0)\n",
    "    print('expression data loaded')\n",
    "    combi_cols = combinations([column for column in exp.columns.tolist() if column!='GENE'],2)\n",
    "    for pair in combi_cols:\n",
    "        print('computing gene FC for',pair)\n",
    "        exp_c = exp[['GENE',pair[0],pair[1]]].copy(deep=True)\n",
    "        exp_c[pair[0]+'_log2'] = exp_c[pair[0]].apply(lambda x:compute_log2(x))\n",
    "        exp_c[pair[1]+'_log2'] = exp_c[pair[1]].apply(lambda x:compute_log2(x))\n",
    "        exp_c = exp_c[(exp_c[pair[0]+'_log2']!=-666)&(exp_c[pair[1]+'_log2']!=-666)]\n",
    "        exp_c['FC'] = exp_c[pair[0]+'_log2'] - exp_c[pair[1]+'_log2']\n",
    "        exp_c['RANK'] = rankdata(exp_c['FC'].tolist())\n",
    "        print('running GSEA for',pair,' this might take hours')\n",
    "        run_GSEA_function(exp_c[['GENE','RANK']],db_name,analysis_name+'_'+pair[0]+'_vs_'+pair[1]) #run GSEA\n",
    "else:\n",
    "    #It is a ranked list of genes\n",
    "    genes_rankval = pd.read_excel('../data/'+filename,names=['GENE','FC']) #Load data\n",
    "    genes_rankval['RANK'] = rankdata(genes_rankval['FC'].tolist()) #Compute rank \n",
    "    run_GSEA_function(genes_rankval,db_name,analysis_name) #run GSEA\n"
   ]
  },
  {
   "cell_type": "markdown",
   "metadata": {},
   "source": [
    "Explanation of the columns in the Excel summary file\n",
    "<ul>\n",
    "<li>Term: name of the pathway enriched</li>\n",
    "<li>es: enrichment score</li>\n",
    "<li>nes: normalized enrichment score (the one to look at!)</li>\n",
    "<li>pval: P-value of the enrichment</li>\n",
    "<li>fdr: Corrected(P-value) of the enrichment by FDR (the one to look at!). Recommended threshold: fdr < 0.25</li>\n",
    "<li>gene_set_size: number of genes in the pathway</li>\n",
    "<li>matched_size: number of genes in the pathway and in your input file</li>\n",
    "<li>genes: genes in the pathway and in your input file</li>\n",
    "</ul>"
   ]
  },
  {
   "cell_type": "code",
   "execution_count": null,
   "metadata": {
    "collapsed": true
   },
   "outputs": [],
   "source": []
  }
 ],
 "metadata": {
  "kernelspec": {
   "display_name": "Python 3",
   "language": "python",
   "name": "python3"
  },
  "language_info": {
   "codemirror_mode": {
    "name": "ipython",
    "version": 3
   },
   "file_extension": ".py",
   "mimetype": "text/x-python",
   "name": "python",
   "nbconvert_exporter": "python",
   "pygments_lexer": "ipython3",
   "version": "3.6.1"
  }
 },
 "nbformat": 4,
 "nbformat_minor": 2
}
