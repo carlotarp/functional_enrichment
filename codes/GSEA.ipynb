{
 "cells": [
  {
   "cell_type": "code",
   "execution_count": 6,
   "metadata": {
    "collapsed": true
   },
   "outputs": [],
   "source": [
    "import pandas as pd\n",
    "import gseapy as gp\n",
    "from scipy.stats import rankdata\n",
    "from itertools import combinations\n",
    "import numpy as np\n",
    "import warnings\n",
    "warnings.filterwarnings('ignore')"
   ]
  },
  {
   "cell_type": "code",
   "execution_count": 7,
   "metadata": {
    "collapsed": true
   },
   "outputs": [],
   "source": [
    "#File with the ranked list of genes of the expression matrix\n",
    "#If it is the expression matrix the first column, named GENE, should contain the gene symbols\n",
    "#Genes with negative expression values or zero will be discarded from analysis\n",
    "filename = 'example_ranked_gene_list.xls'\n",
    "\n",
    "#Is it the expression matrix? True or False\n",
    "exp_mat = True\n",
    "\n",
    "#Database to perform the GSEA\n",
    "db_name = '../data/MSigDB/hallmarks.gmt'\n",
    "\n",
    "#Name of the analysis it will be used for output folder and summary file in results/ folder\n",
    "analysis_name = 'example_ranked'"
   ]
  },
  {
   "cell_type": "markdown",
   "metadata": {},
   "source": [
    "Note of advanced parameters: \n",
    "\n",
    "<p> By default GSEA will generate the enrichment plots of the top-20 enriched pathways if you want to change this number you may change \"graph_num\"</p>\n",
    "<p> By default it will do 1,000 random permutations. This means the lowest P-value you will obtain is 10-3. You may lower this number to speed-up the enrichment or increase it to have more statistical power (you may have a memory error here)</p>\n",
    "<p> If you input a ranked file it is assumed that lower values means downregulation and higher up-regulation </p>"
   ]
  },
  {
   "cell_type": "code",
   "execution_count": 8,
   "metadata": {
    "collapsed": true
   },
   "outputs": [],
   "source": [
    "#GSEA function\n",
    "def run_GSEA_function(genes_rankval,db_name,analysis_name):\n",
    "    #Run GSEA\n",
    "    pre_res = gp.prerank(rnk=genes_rankval[['GENE','RANK']],\n",
    "                             gene_sets=db_name,\n",
    "                             outdir='../results/'+analysis_name,format='png',\n",
    "                             graph_num=20,\n",
    "                             permutation_num=10,\n",
    "                             weighted_score_type=0)\n",
    "    results = pd.DataFrame(pre_res.res2d)\n",
    "    results = results.reset_index()\n",
    "    #Dump a summary of the results into an Excel file\n",
    "    results.to_excel('../results/'+analysis_name+'_GSEAresults_SUMMARY.xls',index=False)\n",
    "\n",
    "def compute_log2(x):\n",
    "    if x <= 0:\n",
    "        return -666\n",
    "    else:\n",
    "        return np.log2(float(x))"
   ]
  },
  {
   "cell_type": "code",
   "execution_count": 9,
   "metadata": {},
   "outputs": [
    {
     "name": "stdout",
     "output_type": "stream",
     "text": [
      "expression data loaded\n",
      "computing gene FC for ('condition1', 'condition2')\n",
      "4096  genes discarded for having null (0 or <0) values\n",
      "running GSEA for ('condition1', 'condition2')  this might take hours\n"
     ]
    },
    {
     "ename": "KeyboardInterrupt",
     "evalue": "",
     "output_type": "error",
     "traceback": [
      "\u001b[0;31m---------------------------------------------------------------------------\u001b[0m",
      "\u001b[0;31mKeyboardInterrupt\u001b[0m                         Traceback (most recent call last)",
      "\u001b[0;32m<ipython-input-9-102a420a3912>\u001b[0m in \u001b[0;36m<module>\u001b[0;34m()\u001b[0m\n\u001b[1;32m     14\u001b[0m         \u001b[0mexp_c\u001b[0m\u001b[0;34m[\u001b[0m\u001b[0;34m'RANK'\u001b[0m\u001b[0;34m]\u001b[0m \u001b[0;34m=\u001b[0m \u001b[0mrankdata\u001b[0m\u001b[0;34m(\u001b[0m\u001b[0mexp_c\u001b[0m\u001b[0;34m[\u001b[0m\u001b[0;34m'FC'\u001b[0m\u001b[0;34m]\u001b[0m\u001b[0;34m.\u001b[0m\u001b[0mtolist\u001b[0m\u001b[0;34m(\u001b[0m\u001b[0;34m)\u001b[0m\u001b[0;34m)\u001b[0m\u001b[0;34m\u001b[0m\u001b[0m\n\u001b[1;32m     15\u001b[0m         \u001b[0mprint\u001b[0m\u001b[0;34m(\u001b[0m\u001b[0;34m'running GSEA for'\u001b[0m\u001b[0;34m,\u001b[0m\u001b[0mpair\u001b[0m\u001b[0;34m,\u001b[0m\u001b[0;34m' this might take hours'\u001b[0m\u001b[0;34m)\u001b[0m\u001b[0;34m\u001b[0m\u001b[0m\n\u001b[0;32m---> 16\u001b[0;31m         \u001b[0mrun_GSEA_function\u001b[0m\u001b[0;34m(\u001b[0m\u001b[0mexp_c\u001b[0m\u001b[0;34m[\u001b[0m\u001b[0;34m[\u001b[0m\u001b[0;34m'GENE'\u001b[0m\u001b[0;34m,\u001b[0m\u001b[0;34m'RANK'\u001b[0m\u001b[0;34m]\u001b[0m\u001b[0;34m]\u001b[0m\u001b[0;34m,\u001b[0m\u001b[0mdb_name\u001b[0m\u001b[0;34m,\u001b[0m\u001b[0manalysis_name\u001b[0m\u001b[0;34m+\u001b[0m\u001b[0;34m'_'\u001b[0m\u001b[0;34m+\u001b[0m\u001b[0mpair\u001b[0m\u001b[0;34m[\u001b[0m\u001b[0;36m0\u001b[0m\u001b[0;34m]\u001b[0m\u001b[0;34m+\u001b[0m\u001b[0;34m'_vs_'\u001b[0m\u001b[0;34m+\u001b[0m\u001b[0mpair\u001b[0m\u001b[0;34m[\u001b[0m\u001b[0;36m1\u001b[0m\u001b[0;34m]\u001b[0m\u001b[0;34m)\u001b[0m \u001b[0;31m#run GSEA\u001b[0m\u001b[0;34m\u001b[0m\u001b[0m\n\u001b[0m\u001b[1;32m     17\u001b[0m \u001b[0;32melse\u001b[0m\u001b[0;34m:\u001b[0m\u001b[0;34m\u001b[0m\u001b[0m\n\u001b[1;32m     18\u001b[0m     \u001b[0;31m#It is a ranked list of genes\u001b[0m\u001b[0;34m\u001b[0m\u001b[0;34m\u001b[0m\u001b[0m\n",
      "\u001b[0;32m<ipython-input-8-59941d463a72>\u001b[0m in \u001b[0;36mrun_GSEA_function\u001b[0;34m(genes_rankval, db_name, analysis_name)\u001b[0m\n\u001b[1;32m      7\u001b[0m                              \u001b[0mgraph_num\u001b[0m\u001b[0;34m=\u001b[0m\u001b[0;36m20\u001b[0m\u001b[0;34m,\u001b[0m\u001b[0;34m\u001b[0m\u001b[0m\n\u001b[1;32m      8\u001b[0m                              \u001b[0mpermutation_num\u001b[0m\u001b[0;34m=\u001b[0m\u001b[0;36m10\u001b[0m\u001b[0;34m,\u001b[0m\u001b[0;34m\u001b[0m\u001b[0m\n\u001b[0;32m----> 9\u001b[0;31m                              weighted_score_type=0)\n\u001b[0m\u001b[1;32m     10\u001b[0m     \u001b[0mresults\u001b[0m \u001b[0;34m=\u001b[0m \u001b[0mpd\u001b[0m\u001b[0;34m.\u001b[0m\u001b[0mDataFrame\u001b[0m\u001b[0;34m(\u001b[0m\u001b[0mpre_res\u001b[0m\u001b[0;34m.\u001b[0m\u001b[0mres2d\u001b[0m\u001b[0;34m)\u001b[0m\u001b[0;34m\u001b[0m\u001b[0m\n\u001b[1;32m     11\u001b[0m     \u001b[0mresults\u001b[0m \u001b[0;34m=\u001b[0m \u001b[0mresults\u001b[0m\u001b[0;34m.\u001b[0m\u001b[0mreset_index\u001b[0m\u001b[0;34m(\u001b[0m\u001b[0;34m)\u001b[0m\u001b[0;34m\u001b[0m\u001b[0m\n",
      "\u001b[0;32m/home/carlota/anaconda3/envs/gseapy/lib/python3.6/site-packages/gseapy/gsea.py\u001b[0m in \u001b[0;36mprerank\u001b[0;34m(rnk, gene_sets, outdir, pheno_pos, pheno_neg, min_size, max_size, permutation_num, weighted_score_type, ascending, processes, figsize, format, graph_num, seed, verbose)\u001b[0m\n\u001b[1;32m    749\u001b[0m                   \u001b[0mmin_size\u001b[0m\u001b[0;34m,\u001b[0m \u001b[0mmax_size\u001b[0m\u001b[0;34m,\u001b[0m \u001b[0mpermutation_num\u001b[0m\u001b[0;34m,\u001b[0m \u001b[0mweighted_score_type\u001b[0m\u001b[0;34m,\u001b[0m\u001b[0;34m\u001b[0m\u001b[0m\n\u001b[1;32m    750\u001b[0m                   ascending, processes, figsize, format, graph_num, seed, verbose)\n\u001b[0;32m--> 751\u001b[0;31m     \u001b[0mpre\u001b[0m\u001b[0;34m.\u001b[0m\u001b[0mrun\u001b[0m\u001b[0;34m(\u001b[0m\u001b[0;34m)\u001b[0m\u001b[0;34m\u001b[0m\u001b[0m\n\u001b[0m\u001b[1;32m    752\u001b[0m     \u001b[0;32mreturn\u001b[0m \u001b[0mpre\u001b[0m\u001b[0;34m\u001b[0m\u001b[0m\n\u001b[1;32m    753\u001b[0m \u001b[0;34m\u001b[0m\u001b[0m\n",
      "\u001b[0;32m/home/carlota/anaconda3/envs/gseapy/lib/python3.6/site-packages/gseapy/gsea.py\u001b[0m in \u001b[0;36mrun\u001b[0;34m(self)\u001b[0m\n\u001b[1;32m    387\u001b[0m         self._plotting(rank_metric=dat2, results=self.results, res2d=self.res2d,\n\u001b[1;32m    388\u001b[0m                        \u001b[0mgraph_num\u001b[0m\u001b[0;34m=\u001b[0m\u001b[0mself\u001b[0m\u001b[0;34m.\u001b[0m\u001b[0mgraph_num\u001b[0m\u001b[0;34m,\u001b[0m \u001b[0moutdir\u001b[0m\u001b[0;34m=\u001b[0m\u001b[0mself\u001b[0m\u001b[0;34m.\u001b[0m\u001b[0moutdir\u001b[0m\u001b[0;34m,\u001b[0m\u001b[0;34m\u001b[0m\u001b[0m\n\u001b[0;32m--> 389\u001b[0;31m                        figsize=self.figsize, format=self.format, module=self.module)\n\u001b[0m\u001b[1;32m    390\u001b[0m \u001b[0;34m\u001b[0m\u001b[0m\n\u001b[1;32m    391\u001b[0m         \u001b[0mlogger\u001b[0m\u001b[0;34m.\u001b[0m\u001b[0minfo\u001b[0m\u001b[0;34m(\u001b[0m\u001b[0;34m\"Congratulations. GSEApy run successfully................\"\u001b[0m\u001b[0;34m)\u001b[0m\u001b[0;34m\u001b[0m\u001b[0m\n",
      "\u001b[0;32m/home/carlota/anaconda3/envs/gseapy/lib/python3.6/site-packages/gseapy/gsea.py\u001b[0m in \u001b[0;36m_plotting\u001b[0;34m(self, rank_metric, results, res2d, graph_num, outdir, format, figsize, module, data, classes, phenoPos, phenoNeg)\u001b[0m\n\u001b[1;32m    154\u001b[0m                                               self.outdir,self.module))\n\u001b[1;32m    155\u001b[0m         \u001b[0mpool\u001b[0m\u001b[0;34m.\u001b[0m\u001b[0mclose\u001b[0m\u001b[0;34m(\u001b[0m\u001b[0;34m)\u001b[0m\u001b[0;34m\u001b[0m\u001b[0m\n\u001b[0;32m--> 156\u001b[0;31m         \u001b[0mpool\u001b[0m\u001b[0;34m.\u001b[0m\u001b[0mjoin\u001b[0m\u001b[0;34m(\u001b[0m\u001b[0;34m)\u001b[0m\u001b[0;34m\u001b[0m\u001b[0m\n\u001b[0m\u001b[1;32m    157\u001b[0m \u001b[0;34m\u001b[0m\u001b[0m\n\u001b[1;32m    158\u001b[0m \u001b[0;34m\u001b[0m\u001b[0m\n",
      "\u001b[0;32m/home/carlota/anaconda3/envs/gseapy/lib/python3.6/multiprocessing/pool.py\u001b[0m in \u001b[0;36mjoin\u001b[0;34m(self)\u001b[0m\n\u001b[1;32m    508\u001b[0m         \u001b[0mutil\u001b[0m\u001b[0;34m.\u001b[0m\u001b[0mdebug\u001b[0m\u001b[0;34m(\u001b[0m\u001b[0;34m'joining pool'\u001b[0m\u001b[0;34m)\u001b[0m\u001b[0;34m\u001b[0m\u001b[0m\n\u001b[1;32m    509\u001b[0m         \u001b[0;32massert\u001b[0m \u001b[0mself\u001b[0m\u001b[0;34m.\u001b[0m\u001b[0m_state\u001b[0m \u001b[0;32min\u001b[0m \u001b[0;34m(\u001b[0m\u001b[0mCLOSE\u001b[0m\u001b[0;34m,\u001b[0m \u001b[0mTERMINATE\u001b[0m\u001b[0;34m)\u001b[0m\u001b[0;34m\u001b[0m\u001b[0m\n\u001b[0;32m--> 510\u001b[0;31m         \u001b[0mself\u001b[0m\u001b[0;34m.\u001b[0m\u001b[0m_worker_handler\u001b[0m\u001b[0;34m.\u001b[0m\u001b[0mjoin\u001b[0m\u001b[0;34m(\u001b[0m\u001b[0;34m)\u001b[0m\u001b[0;34m\u001b[0m\u001b[0m\n\u001b[0m\u001b[1;32m    511\u001b[0m         \u001b[0mself\u001b[0m\u001b[0;34m.\u001b[0m\u001b[0m_task_handler\u001b[0m\u001b[0;34m.\u001b[0m\u001b[0mjoin\u001b[0m\u001b[0;34m(\u001b[0m\u001b[0;34m)\u001b[0m\u001b[0;34m\u001b[0m\u001b[0m\n\u001b[1;32m    512\u001b[0m         \u001b[0mself\u001b[0m\u001b[0;34m.\u001b[0m\u001b[0m_result_handler\u001b[0m\u001b[0;34m.\u001b[0m\u001b[0mjoin\u001b[0m\u001b[0;34m(\u001b[0m\u001b[0;34m)\u001b[0m\u001b[0;34m\u001b[0m\u001b[0m\n",
      "\u001b[0;32m/home/carlota/anaconda3/envs/gseapy/lib/python3.6/threading.py\u001b[0m in \u001b[0;36mjoin\u001b[0;34m(self, timeout)\u001b[0m\n\u001b[1;32m   1054\u001b[0m \u001b[0;34m\u001b[0m\u001b[0m\n\u001b[1;32m   1055\u001b[0m         \u001b[0;32mif\u001b[0m \u001b[0mtimeout\u001b[0m \u001b[0;32mis\u001b[0m \u001b[0;32mNone\u001b[0m\u001b[0;34m:\u001b[0m\u001b[0;34m\u001b[0m\u001b[0m\n\u001b[0;32m-> 1056\u001b[0;31m             \u001b[0mself\u001b[0m\u001b[0;34m.\u001b[0m\u001b[0m_wait_for_tstate_lock\u001b[0m\u001b[0;34m(\u001b[0m\u001b[0;34m)\u001b[0m\u001b[0;34m\u001b[0m\u001b[0m\n\u001b[0m\u001b[1;32m   1057\u001b[0m         \u001b[0;32melse\u001b[0m\u001b[0;34m:\u001b[0m\u001b[0;34m\u001b[0m\u001b[0m\n\u001b[1;32m   1058\u001b[0m             \u001b[0;31m# the behavior of a negative timeout isn't documented, but\u001b[0m\u001b[0;34m\u001b[0m\u001b[0;34m\u001b[0m\u001b[0m\n",
      "\u001b[0;32m/home/carlota/anaconda3/envs/gseapy/lib/python3.6/threading.py\u001b[0m in \u001b[0;36m_wait_for_tstate_lock\u001b[0;34m(self, block, timeout)\u001b[0m\n\u001b[1;32m   1070\u001b[0m         \u001b[0;32mif\u001b[0m \u001b[0mlock\u001b[0m \u001b[0;32mis\u001b[0m \u001b[0;32mNone\u001b[0m\u001b[0;34m:\u001b[0m  \u001b[0;31m# already determined that the C code is done\u001b[0m\u001b[0;34m\u001b[0m\u001b[0m\n\u001b[1;32m   1071\u001b[0m             \u001b[0;32massert\u001b[0m \u001b[0mself\u001b[0m\u001b[0;34m.\u001b[0m\u001b[0m_is_stopped\u001b[0m\u001b[0;34m\u001b[0m\u001b[0m\n\u001b[0;32m-> 1072\u001b[0;31m         \u001b[0;32melif\u001b[0m \u001b[0mlock\u001b[0m\u001b[0;34m.\u001b[0m\u001b[0macquire\u001b[0m\u001b[0;34m(\u001b[0m\u001b[0mblock\u001b[0m\u001b[0;34m,\u001b[0m \u001b[0mtimeout\u001b[0m\u001b[0;34m)\u001b[0m\u001b[0;34m:\u001b[0m\u001b[0;34m\u001b[0m\u001b[0m\n\u001b[0m\u001b[1;32m   1073\u001b[0m             \u001b[0mlock\u001b[0m\u001b[0;34m.\u001b[0m\u001b[0mrelease\u001b[0m\u001b[0;34m(\u001b[0m\u001b[0;34m)\u001b[0m\u001b[0;34m\u001b[0m\u001b[0m\n\u001b[1;32m   1074\u001b[0m             \u001b[0mself\u001b[0m\u001b[0;34m.\u001b[0m\u001b[0m_stop\u001b[0m\u001b[0;34m(\u001b[0m\u001b[0;34m)\u001b[0m\u001b[0;34m\u001b[0m\u001b[0m\n",
      "\u001b[0;31mKeyboardInterrupt\u001b[0m: "
     ]
    },
    {
     "name": "stderr",
     "output_type": "stream",
     "text": [
      "Process ForkPoolWorker-8:\n",
      "Traceback (most recent call last):\n",
      "  File \"/home/carlota/anaconda3/envs/gseapy/lib/python3.6/multiprocessing/process.py\", line 249, in _bootstrap\n",
      "    self.run()\n",
      "  File \"/home/carlota/anaconda3/envs/gseapy/lib/python3.6/multiprocessing/process.py\", line 93, in run\n",
      "    self._target(*self._args, **self._kwargs)\n",
      "  File \"/home/carlota/anaconda3/envs/gseapy/lib/python3.6/multiprocessing/pool.py\", line 119, in worker\n",
      "    result = (True, func(*args, **kwds))\n",
      "  File \"/home/carlota/anaconda3/envs/gseapy/lib/python3.6/site-packages/gseapy/plot.py\", line 201, in gsea_plot\n",
      "    bbox_inches='tight', dpi=300,)\n",
      "  File \"/home/carlota/anaconda3/envs/gseapy/lib/python3.6/site-packages/matplotlib/backend_bases.py\", line 2200, in print_figure\n",
      "    **kwargs)\n",
      "  File \"/home/carlota/anaconda3/envs/gseapy/lib/python3.6/site-packages/matplotlib/backends/backend_agg.py\", line 556, in print_png\n",
      "    _png.write_png(renderer._renderer, filename_or_obj, self.figure.dpi)\n",
      "KeyboardInterrupt\n"
     ]
    }
   ],
   "source": [
    "if exp_mat: \n",
    "    #If it is an expression matrix\n",
    "    exp = pd.read_excel('../data/example_expression_matrix.xls',sep='\\t',index_col=False,header=0)\n",
    "    print('expression data loaded')\n",
    "    combi_cols = combinations([column for column in exp.columns.tolist() if column!='GENE'],2)\n",
    "    for pair in combi_cols:\n",
    "        print('computing gene FC for',pair)\n",
    "        exp_c = exp[['GENE',pair[0],pair[1]]].copy(deep=True)\n",
    "        exp_c[pair[0]+'_log2'] = exp_c[pair[0]].apply(lambda x:compute_log2(x))\n",
    "        exp_c[pair[1]+'_log2'] = exp_c[pair[1]].apply(lambda x:compute_log2(x))\n",
    "        print(len(exp_c[(exp_c[pair[0]+'_log2']==-666)|(exp_c[pair[1]+'_log2']==-666)]),' genes discarded for having null (0 or <0) values in one or both conditions')\n",
    "        exp_c = exp_c[(exp_c[pair[0]+'_log2']!=-666)&(exp_c[pair[1]+'_log2']!=-666)]\n",
    "        exp_c['FC'] = exp_c[pair[0]+'_log2'] - exp_c[pair[1]+'_log2']\n",
    "        exp_c['RANK'] = rankdata(exp_c['FC'].tolist())\n",
    "        print('running GSEA for',pair,' this might take hours')\n",
    "        run_GSEA_function(exp_c[['GENE','RANK']],db_name,analysis_name+'_'+pair[0]+'_vs_'+pair[1]) #run GSEA\n",
    "else:\n",
    "    #It is a ranked list of genes\n",
    "    genes_rankval = pd.read_excel('../data/'+filename,names=['GENE','FC']) #Load data\n",
    "    genes_rankval['RANK'] = rankdata(genes_rankval['FC'].tolist()) #Compute rank \n",
    "    run_GSEA_function(genes_rankval,db_name,analysis_name) #run GSEA\n"
   ]
  },
  {
   "cell_type": "markdown",
   "metadata": {},
   "source": [
    "Explanation of the columns in the Excel summary file\n",
    "<ul>\n",
    "<li>Term: name of the pathway enriched</li>\n",
    "<li>es: enrichment score</li>\n",
    "<li>nes: normalized enrichment score (the one to look at!)</li>\n",
    "<li>pval: P-value of the enrichment</li>\n",
    "<li>fdr: Corrected(P-value) of the enrichment by FDR (the one to look at!). Recommended threshold: fdr < 0.25</li>\n",
    "<li>gene_set_size: number of genes in the pathway</li>\n",
    "<li>matched_size: number of genes in the pathway and in your input file</li>\n",
    "<li>genes: genes in the pathway and in your input file</li>\n",
    "</ul>"
   ]
  },
  {
   "cell_type": "code",
   "execution_count": null,
   "metadata": {
    "collapsed": true
   },
   "outputs": [],
   "source": []
  }
 ],
 "metadata": {
  "kernelspec": {
   "display_name": "Python 3",
   "language": "python",
   "name": "python3"
  },
  "language_info": {
   "codemirror_mode": {
    "name": "ipython",
    "version": 3
   },
   "file_extension": ".py",
   "mimetype": "text/x-python",
   "name": "python",
   "nbconvert_exporter": "python",
   "pygments_lexer": "ipython3",
   "version": "3.6.1"
  }
 },
 "nbformat": 4,
 "nbformat_minor": 2
}
