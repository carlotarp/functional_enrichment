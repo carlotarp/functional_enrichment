{
 "cells": [
  {
   "cell_type": "code",
   "execution_count": 1,
   "metadata": {
    "button": false,
    "collapsed": true,
    "new_sheet": false,
    "run_control": {
     "read_only": false
    }
   },
   "outputs": [],
   "source": [
    "import ipywidgets as widgets\n",
    "from IPython.display import display\n",
    "import pandas as pd\n",
    "from core_functions import *\n",
    "import os\n",
    "import warnings\n",
    "warnings.filterwarnings('ignore')"
   ]
  },
  {
   "cell_type": "markdown",
   "metadata": {},
   "source": [
    "Note before starting:\n",
    "    <p>All data files must be in data/ folder<p>\n",
    "    <p>All results will be generated in results/ folder including an image (in PNG) and an Excel file<p>"
   ]
  },
  {
   "cell_type": "code",
   "execution_count": 2,
   "metadata": {
    "button": false,
    "new_sheet": false,
    "run_control": {
     "read_only": false
    },
    "scrolled": false
   },
   "outputs": [
    {
     "name": "stdout",
     "output_type": "stream",
     "text": [
      "Select the database to perform the functional enrichment:\n"
     ]
    },
    {
     "data": {
      "application/vnd.jupyter.widget-view+json": {
       "model_id": "d3838964b0fb46f39c311a1b862e5b49"
      }
     },
     "metadata": {},
     "output_type": "display_data"
    },
    {
     "name": "stdout",
     "output_type": "stream",
     "text": [
      "Select the groups file\n"
     ]
    },
    {
     "data": {
      "application/vnd.jupyter.widget-view+json": {
       "model_id": "0e5256e8f5134102a4d5c46f034a8f83"
      }
     },
     "metadata": {},
     "output_type": "display_data"
    },
    {
     "name": "stdout",
     "output_type": "stream",
     "text": [
      "OPTIONAL - Select a file with list of gene sets to enrich (filter):\n"
     ]
    },
    {
     "data": {
      "application/vnd.jupyter.widget-view+json": {
       "model_id": "88cf003594f24e7a8715d6699375f61d"
      }
     },
     "metadata": {},
     "output_type": "display_data"
    },
    {
     "name": "stdout",
     "output_type": "stream",
     "text": [
      "Minimum of genes intersecting gene set\n"
     ]
    },
    {
     "data": {
      "application/vnd.jupyter.widget-view+json": {
       "model_id": "5b54a712095740cb837db8b710246df3"
      }
     },
     "metadata": {},
     "output_type": "display_data"
    },
    {
     "name": "stdout",
     "output_type": "stream",
     "text": [
      "Corrected P-value (Q-value) threshold\n"
     ]
    },
    {
     "data": {
      "application/vnd.jupyter.widget-view+json": {
       "model_id": "3d0ebd32cb254a42834313902714a355"
      }
     },
     "metadata": {},
     "output_type": "display_data"
    }
   ],
   "source": [
    "dbn = dropdown()\n",
    "display(dbn)\n",
    "filename = filename_groups()\n",
    "display(filename)\n",
    "filenameGO = filename_GO()\n",
    "display(filenameGO)\n",
    "mngene = min_gene_intersected()\n",
    "display(mngene)\n",
    "fs = pval_thres()\n",
    "display(fs)\n",
    "try:\n",
    "    os.stat('../results/')\n",
    "except:\n",
    "    os.mkdir('../results/')       "
   ]
  },
  {
   "cell_type": "markdown",
   "metadata": {
    "button": false,
    "new_sheet": false,
    "run_control": {
     "read_only": false
    }
   },
   "source": [
    "## Functional enrichment"
   ]
  },
  {
   "cell_type": "code",
   "execution_count": null,
   "metadata": {
    "button": false,
    "new_sheet": false,
    "run_control": {
     "read_only": false
    },
    "scrolled": false
   },
   "outputs": [
    {
     "name": "stdout",
     "output_type": "stream",
     "text": [
      "Working on.... cluster0\n",
      "Working on.... cluster1\n",
      "Working on.... cluster2\n",
      "Working on.... cluster3\n",
      "Working on.... cluster4\n",
      "Working on.... cluster7\n"
     ]
    }
   ],
   "source": [
    "if filename.value == 'No_file':\n",
    "    print('PLEASE SPECIFY A GROUP FILE. It should be in data/ folder')\n",
    "else:\n",
    "    #Load data\n",
    "    allgenes,genesets,cluster_genes,clusters = load_data(filename.value,dbn.value)\n",
    "    \n",
    "    #Functional enrichment\n",
    "    allenrichment_results = enrichment_all_groups(genesets,mngene.value,filenameGO.value,allgenes,cluster_genes,float(fs.value))\n",
    "    \n",
    "    if len(allenrichment_results) > 0:\n",
    "        outname = filename.value.split('.')[0]+'_'+dbn.value.replace('.gmt','')\n",
    "        \n",
    "        #Plot heatmap\n",
    "        plot_heatmap(allenrichment_results,clusters,cluster_genes,float(fs.value))\n",
    "\n",
    "        #Generate tabe with all results\n",
    "        genes_enriched_per_group(allenrichment_results,outname)\n",
    "        allenrichment_results[['GROUP','TERM','TERM_GENE_SET_SIZE','PVALUE','QVALUE','ENRICHED_GENES']].to_excel('../results/'+outname+'.xls',index=False)\n",
    "    else:\n",
    "        print('Any gene set from',dbn.value,'was enriched by',filename.value)"
   ]
  },
  {
   "cell_type": "markdown",
   "metadata": {
    "collapsed": true
   },
   "source": [
    "Explanation of the excel file generated\n",
    "<li>GROUP: name of the user gene set of interest</li>\n",
    "<li>TERM: pathway enriched</li>\n",
    "<li>TERM_GENE_SET_SIZE: number of genes in pathway enriched</li>\n",
    "<li>PVALUE: P-value of the enrichment</li>\n",
    "<li>QVALUE: Corrected P-values (FDR bh) of the enrichment (the one to look at!)</li>\n",
    "<li>ENRICHED_GENES: list of genes in the pathway and in the user gene set</li>"
   ]
  },
  {
   "cell_type": "code",
   "execution_count": null,
   "metadata": {
    "collapsed": true
   },
   "outputs": [],
   "source": []
  }
 ],
 "metadata": {
  "kernelspec": {
   "display_name": "Python 3",
   "language": "python",
   "name": "python3"
  },
  "language_info": {
   "codemirror_mode": {
    "name": "ipython",
    "version": 3
   },
   "file_extension": ".py",
   "mimetype": "text/x-python",
   "name": "python",
   "nbconvert_exporter": "python",
   "pygments_lexer": "ipython3",
   "version": "3.6.1"
  }
 },
 "nbformat": 4,
 "nbformat_minor": 2
}
